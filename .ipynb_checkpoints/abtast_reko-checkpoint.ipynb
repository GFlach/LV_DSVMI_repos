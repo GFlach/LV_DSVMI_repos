{
 "cells": [
  {
   "cell_type": "code",
   "execution_count": null,
   "metadata": {},
   "outputs": [],
   "source": [
    "from scipy.io import wavfile\n",
    "from IPython.display import Audio\n",
    "import matplotlib.pyplot as plt"
   ]
  },
  {
   "cell_type": "markdown",
   "metadata": {},
   "source": [
    "[Table of Contents](table_of_contents.ipynb)"
   ]
  },
  {
   "cell_type": "markdown",
   "metadata": {},
   "source": [
    "## 5 Abtastung und Rekonstruktion\n",
    "### 5.1 Abtastung\n",
    "<img src='image/abtastung3.jpg' width='600'>\n",
    "<img src='image/abtastung4.jpg' width='600'>\n",
    "<img src='image/abtastung1.jpg' width='600'>"
   ]
  },
  {
   "cell_type": "markdown",
   "metadata": {},
   "source": [
    "### 5.2 Abtasttheorem\n",
    "<img src='image/antialiasing_tp.jpg' width='400'>"
   ]
  },
  {
   "cell_type": "markdown",
   "metadata": {},
   "source": [
    "### 5.3 Quantisierung\n",
    "<img src='image/quantisierungskennlinie.jpg' width='400'>"
   ]
  },
  {
   "cell_type": "markdown",
   "metadata": {},
   "source": [
    "#### <font color=\"#FF0000\">Eingabezelle</font>"
   ]
  },
  {
   "cell_type": "code",
   "execution_count": null,
   "metadata": {},
   "outputs": [],
   "source": [
    "#sd = 'sound\\\\quant_16.wav'\n",
    "#sd = 'sound\\\\quant_8.wav'\n",
    "#sd = 'sound\\\\quant_4.wav'\n",
    "sd = 'sound\\\\quant_1.wav'"
   ]
  },
  {
   "cell_type": "code",
   "execution_count": null,
   "metadata": {},
   "outputs": [],
   "source": [
    "fs, sounddat = wavfile.read(sd)\n",
    "Audio(data = sounddat, rate = fs)"
   ]
  },
  {
   "cell_type": "markdown",
   "metadata": {},
   "source": [
    "### 5.4 Rekonstruktion abgetasteter Signale\n",
    "#### 5.4.1 Vorbetrachtungen\n",
    "<img src='image/441_bild3.jpg' width='400'>\n",
    "<img src='image/441_bild1.jpg' width='600'>\n",
    "<img src='image/441_bild2.jpg' width='600'>"
   ]
  },
  {
   "cell_type": "markdown",
   "metadata": {},
   "source": [
    "#### 5.4.2 Verfahren zur Rekonstruktion von Signalen\n",
    "Sample and Hold\n",
    "<img src='image/443_bild1.jpg' width='600'>\n",
    "<img src='image/443_bild2.jpg' width='300'>\n",
    "<img src='image/443_bild3.jpg' width='300'>\n",
    "\n",
    "---\n",
    "\n",
    "<img src='image/443_bild4.jpg' width='600'>\n",
    "<img src='image/443_bild5.jpg' width='600'>\n",
    "<img src='image/443_bild6.jpg' width='400'>\n",
    "<img src='image/443_bild7.jpg'>"
   ]
  },
  {
   "cell_type": "markdown",
   "metadata": {},
   "source": [
    "Ideale Rekonstruktion\n",
    "<img src='image/444_bild1.jpg' width='600'>\n",
    "<img src='image/444_bild2.jpg' width='600'>"
   ]
  }
 ],
 "metadata": {
  "kernelspec": {
   "display_name": "Python 3",
   "language": "python",
   "name": "python3"
  },
  "language_info": {
   "codemirror_mode": {
    "name": "ipython",
    "version": 3
   },
   "file_extension": ".py",
   "mimetype": "text/x-python",
   "name": "python",
   "nbconvert_exporter": "python",
   "pygments_lexer": "ipython3",
   "version": "3.6.5"
  }
 },
 "nbformat": 4,
 "nbformat_minor": 1
}
