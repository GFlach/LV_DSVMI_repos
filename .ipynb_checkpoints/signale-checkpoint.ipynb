{
 "cells": [
  {
   "cell_type": "markdown",
   "metadata": {},
   "source": [
    "[Table of Contents](table_of_contents.ipynb)"
   ]
  },
  {
   "cell_type": "code",
   "execution_count": null,
   "metadata": {},
   "outputs": [],
   "source": [
    "%matplotlib\n",
    "%pylab inline\n",
    "import numpy as np\n",
    "import matplotlib.pyplot as plt\n",
    "import dsv.dsvorg as do"
   ]
  },
  {
   "cell_type": "markdown",
   "metadata": {},
   "source": [
    "## 3 Signale und Systeme"
   ]
  },
  {
   "cell_type": "markdown",
   "metadata": {},
   "source": [
    "### 3.1 Elementare zeitdiskrete Signale\n",
    "\n",
    "<img src=\"image/exp_sig1.jpg\" width=\"400\">\n",
    "<img src=\"image/exp_sig2.jpg\" width=\"400\">\n",
    "<img src=\"image/exp_sig3.jpg\" width=\"400\">\n",
    "<img src=\"image/gauss.jpg\" width=\"400\">\n",
    "\n",
    "#### Komplexe Exponentialschwingung"
   ]
  },
  {
   "cell_type": "code",
   "execution_count": null,
   "metadata": {},
   "outputs": [],
   "source": [
    "k = 3\n",
    "N = 8\n",
    "do.show_exp(k,N)"
   ]
  },
  {
   "cell_type": "markdown",
   "metadata": {},
   "source": [
    "#### Veranschaulichung des Sachverhalts\n",
    "<img src=\"image/komplexe_exp1.jpg\">\n",
    "\n",
    "### 3.2 Energie- und Leistungssignale\n",
    "\n",
    "### 3.3 Gerade und ungerade Signale"
   ]
  },
  {
   "cell_type": "markdown",
   "metadata": {},
   "source": [
    "### 3.4 Signaloperationen\n",
    "- Multiplikation mit Faktor\n",
    "<img src=\"image/mult_fakt.jpg\" width=\"600\">\n",
    "- Addition von Signalen\n",
    "<img src=\"image/addition1.jpg\" width=\"600\">\n",
    "<img src=\"image/addition2.jpg\" width=\"600\">\n",
    "- Differenziation\n",
    "<img src=\"image/differenzieren1.jpg\" width=\"600\">\n",
    "<img src=\"image/differenzieren2.jpg\" width=\"600\">"
   ]
  },
  {
   "cell_type": "markdown",
   "metadata": {
    "collapsed": true
   },
   "source": [
    "### 3.5 Systeme\n",
    "- Beobachtung 1\n",
    "<img src=\"image/system_spannungsteiler.jpg\" width=\"600\">\n",
    "- Beobachtung 2\n",
    "<img src=\"image/system_tiefpass.jpg\" width=\"600\">"
   ]
  }
 ],
 "metadata": {
  "kernelspec": {
   "display_name": "Python 3",
   "language": "python",
   "name": "python3"
  },
  "language_info": {
   "codemirror_mode": {
    "name": "ipython",
    "version": 3
   },
   "file_extension": ".py",
   "mimetype": "text/x-python",
   "name": "python",
   "nbconvert_exporter": "python",
   "pygments_lexer": "ipython3",
   "version": "3.7.1"
  }
 },
 "nbformat": 4,
 "nbformat_minor": 1
}
