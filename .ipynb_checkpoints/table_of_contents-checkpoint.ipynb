{
 "cells": [
  {
   "cell_type": "markdown",
   "metadata": {},
   "source": [
    "<center><h1>Digitale Signalverarbeitung für Medieninformatiker</h1></center>\n",
    "\n",
    "## Inhaltsverzeichnis\n",
    "\n",
    "[**1 Vorbetrachtungen**](vorbetrachtungen.ipynb)\n",
    "\n",
    "[**2 Einführung**](einfuehrung.ipynb)\n",
    "\n",
    "[**3 Signale und Systeme**](signale.ipynb)\n",
    "\n",
    "[**4 Abtastung und Rekonstruktion**](abtast_reko.ipynb)\n",
    "\n",
    "[**5 Transformation und Faltung**](trans_falt.ipynb)\n",
    "\n",
    "[**6 Signalverarbeitung im Originalbereich**](time_domain.ipynb)\n",
    "\n",
    "[**7 Diskrete Signale im Bildbereich**](bildbereich.ipynb)\n",
    "\n",
    "[**8 Digitalfilter**](digitalfilter.ipynb)\n",
    "\n",
    "[**9 Bearbeitung von Schallsignalen**](schallsignale.ipynb)"
   ]
  }
 ],
 "metadata": {
  "kernelspec": {
   "display_name": "Python 3",
   "language": "python",
   "name": "python3"
  },
  "language_info": {
   "codemirror_mode": {
    "name": "ipython",
    "version": 3
   },
   "file_extension": ".py",
   "mimetype": "text/x-python",
   "name": "python",
   "nbconvert_exporter": "python",
   "pygments_lexer": "ipython3",
   "version": "3.6.5"
  }
 },
 "nbformat": 4,
 "nbformat_minor": 1
}
