{
 "cells": [
  {
   "cell_type": "markdown",
   "metadata": {},
   "source": [
    "[Table of Contents](table_of_contents.ipynb)"
   ]
  },
  {
   "cell_type": "markdown",
   "metadata": {},
   "source": [
    "## 1 Vorbetrachtungen\n",
    "\n",
    "### 1.1 Organisatorisches\n",
    "\n",
    "- Jupyter-Notebooks\n",
    "\n",
    "<img src=\"image/jupyter.jpg\">\n",
    "\n",
    "- Textzellen\n",
    "\n",
    "<img src=\"image/jupyter1.jpg\">\n",
    "<img src=\"image/jupyter2.jpg\">\n",
    "\n",
    "\n",
    "\n",
    "### 1.2 Überblick und Beispiele"
   ]
  },
  {
   "cell_type": "markdown",
   "metadata": {
    "collapsed": true
   },
   "source": [
    "- Leckortung mit Korrelation\n",
    "<img src=\"image/beispiel1_1.jpg\">\n",
    "<img src=\"image/beispiel1_2.jpg\">\n",
    "\n",
    "- Diskrete Fouriertransformation\n",
    "<img src=\"image/beispiel2_1.jpg\">\n",
    "<img src=\"image/beispiel2_2.jpg\">\n",
    "\n",
    "- Digitale Filterung\n",
    "<img src=\"image/beispiel3_1.jpg\">\n",
    "<img src=\"image/beispiel3_2.jpg\">\n",
    "\n",
    "- Signalerzeugung\n",
    "<img src=\"image/beispiel4_1.jpg\">\n",
    "<img src=\"image/beispiel4_2.jpg\">\n"
   ]
  }
 ],
 "metadata": {
  "kernelspec": {
   "display_name": "Python 3",
   "language": "python",
   "name": "python3"
  },
  "language_info": {
   "codemirror_mode": {
    "name": "ipython",
    "version": 3
   },
   "file_extension": ".py",
   "mimetype": "text/x-python",
   "name": "python",
   "nbconvert_exporter": "python",
   "pygments_lexer": "ipython3",
   "version": "3.7.1"
  }
 },
 "nbformat": 4,
 "nbformat_minor": 1
}
