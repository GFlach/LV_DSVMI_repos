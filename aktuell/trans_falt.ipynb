{
 "cells": [
  {
   "cell_type": "markdown",
   "metadata": {},
   "source": [
    "[Table of Contents](table_of_contents.ipynb)"
   ]
  },
  {
   "cell_type": "code",
   "execution_count": null,
   "metadata": {},
   "outputs": [],
   "source": [
    "%matplotlib\n",
    "%pylab inline\n",
    "import numpy as np\n",
    "import matplotlib.pyplot as plt\n",
    "from IPython.display import Audio\n",
    "from scipy.io import wavfile"
   ]
  },
  {
   "cell_type": "markdown",
   "metadata": {},
   "source": [
    "## 4 Transformation und Faltung\n",
    "- Einführung\n",
    "\n",
    "### Licht\n",
    "<img src=\"image/prisma.gif\">\n",
    "Quelle: www.lernhelfer.de/schuelerlexikon/physik-abitur/artikel/spektren-und-spektralanalyse\n",
    "<img src=\"image/beispiel_spektrum.jpg\">\n",
    "\n",
    "### Töne\n",
    "<img src=\"image/fourier_einf1.jpg\">"
   ]
  },
  {
   "cell_type": "code",
   "execution_count": null,
   "metadata": {},
   "outputs": [],
   "source": [
    "fs, instrumente = wavfile.read('sound\\\\fourierreihe.wav')\n",
    "Audio(data = instrumente, rate = fs)"
   ]
  },
  {
   "cell_type": "markdown",
   "metadata": {},
   "source": [
    "<img src=\"image/fourier_einf2.jpg\">\n",
    "<img src=\"image/fourier_einf3.jpg\">\n",
    "<img src=\"image/fourier_einf4.jpg\">\n",
    "<img src=\"image/fourier_einf5.jpg\">"
   ]
  },
  {
   "cell_type": "markdown",
   "metadata": {
    "collapsed": true
   },
   "source": [
    "### 4.1 Fourierreihe\n",
    "<img src=\"image/fourierreihe.jpg\">\n",
    "\n",
    "### 4.2 Fouriersynthese\n",
    "<img src=\"image/fouriersynthese.jpg\">\n",
    "\n",
    "### 4.3 Fouriertransformation\n",
    "\n",
    "### 4.4 Diskrete Fouriertransformation\n",
    "Transformationsgleichungen für 4 Koeffizienten aus 4 Abtastwerten \n",
    "$$\n",
    "\\underline{X}_{0}=\\frac{1}{4}\\left( x\\left(0\\right) e^{-j\\frac{2\\pi}{4}\\cdot0\\cdot0}+\n",
    " x\\left(1\\right) e^{-j\\frac{2\\pi}{4}\\cdot0\\cdot1}+ x\\left(2\\right) e^{-j\\frac{2\\pi}{4}\\cdot0\\cdot2}+ x\\left(3\\right) e^{-j\\frac{2\\pi}{4}\\cdot0\\cdot3}\\right)\n",
    "$$\n",
    "\n",
    "$$\n",
    "\\underline{X}_{1}=\\frac{1}{4}\\left( x\\left(0\\right) e^{-j\\frac{2\\pi}{4}\\cdot1\\cdot0}+ x\\left(1\\right) e^{-j\\frac{2\\pi}{4}\\cdot1\\cdot1}+ x\\left(2\\right) e^{-j\\frac{2\\pi}{4}\\cdot1\\cdot2}+ x\\left(3\\right) e^{-j\\frac{2\\pi}{4}\\cdot1\\cdot3}\\right)\n",
    "$$\n",
    "\n",
    "$$\n",
    "\\underline{X}_{2}=\\frac{1}{4}\\left( x\\left(0\\right) e^{-j\\frac{2\\pi}{4}\\cdot2\\cdot0}+ x\\left(1\\right) e^{-j\\frac{2\\pi}{4}\\cdot2\\cdot1}+ x\\left(2\\right) e^{-j\\frac{2\\pi}{4}\\cdot2\\cdot2}+ x\\left(3\\right) e^{-j\\frac{2\\pi}{4}\\cdot2\\cdot3}\\right)\n",
    "$$\n",
    "\n",
    "$$\n",
    "\\underline{X}_{3}=\\frac{1}{4}\\left( x\\left(0\\right) e^{-j\\frac{2\\pi}{4}\\cdot3\\cdot0}+ x\\left(1\\right) e^{-j\\frac{2\\pi}{4}\\cdot3\\cdot1}+ x\\left(2\\right) e^{-j\\frac{2\\pi}{4}\\cdot3\\cdot2}+ x\\left(3\\right) e^{-j\\frac{2\\pi}{4}\\cdot3\\cdot3}\\right)\n",
    "$$\n",
    "\n",
    "Matrixschreibweise:\n",
    "$$\n",
    "\\left(\\begin{array}{c}\n",
    "\\underline{X}_{0}\\\\\n",
    "\\underline{X}_{1}\\\\\n",
    "\\underline{X}_{2}\\\\\n",
    "\\underline{X}_{3}\n",
    "\\end{array}\\right)=\\frac{1}{4}\\left(\\begin{array}{cccc}\n",
    "e^{-j\\frac{\\pi}{2}\\cdot0} & e^{-j\\frac{\\pi}{2}\\cdot0} & e^{-j\\frac{\\pi}{2}\\cdot0} & e^{-j\\frac{\\pi}{2}\\cdot0}\\\\\n",
    "e^{-j\\frac{\\pi}{2}\\cdot0} & e^{-j\\frac{\\pi}{2}\\cdot1} & e^{-j\\pi\\cdot2} & e^{-j\\frac{\\pi}{2}\\cdot3}\\\\\n",
    "e^{-j\\frac{\\pi}{2}\\cdot0} & e^{-j\\frac{\\pi}{2}\\cdot2} & e^{-j\\frac{\\pi}{2}\\cdot4} & e^{-j\\frac{\\pi}{2}\\cdot6}\\\\\n",
    "e^{-j\\frac{\\pi}{2}\\cdot0} & e^{-j\\frac{\\pi}{2}\\cdot3} & e^{-j\\frac{\\pi}{2}\\cdot6} & e^{-j\\frac{\\pi}{2}\\cdot9}\n",
    "\\end{array}\\right)\\cdot\\left(\\begin{array}{c}\n",
    "x\\left(0\\right)\\\\\n",
    "x\\left(1\\right)\\\\\n",
    "x\\left(2\\right)\\\\\n",
    "x\\left(3\\right)\n",
    "\\end{array}\\right)\n",
    "$$\n",
    "\n",
    "### 4.5 Faltung\n",
    "<img src=\"image/faltung.jpg\">"
   ]
  }
 ],
 "metadata": {
  "kernelspec": {
   "display_name": "Python 3",
   "language": "python",
   "name": "python3"
  },
  "language_info": {
   "codemirror_mode": {
    "name": "ipython",
    "version": 3
   },
   "file_extension": ".py",
   "mimetype": "text/x-python",
   "name": "python",
   "nbconvert_exporter": "python",
   "pygments_lexer": "ipython3",
   "version": "3.7.1"
  }
 },
 "nbformat": 4,
 "nbformat_minor": 1
}
