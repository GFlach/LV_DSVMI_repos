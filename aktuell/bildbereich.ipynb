{
 "cells": [
  {
   "cell_type": "markdown",
   "metadata": {},
   "source": [
    "[Table of Contents](table_of_contents.ipynb)"
   ]
  },
  {
   "cell_type": "markdown",
   "metadata": {},
   "source": [
    "## 7 Diskrete Signale im Bildbereich\n",
    "### 7.1 Berechnung der DFT mittels FFT\n",
    "### 7.2 Wichtige Eigenschaften der DFT\n",
    "### 7.3 Leakage und Fensterung\n",
    "<img src = 'image/sig+zf.jpg'>\n",
    "<img src = 'image/sig_w.jpg'>\n",
    "<img src = 'image/sig_ana.jpg'>\n",
    "<img src = 'image/sig+zf1.jpg'>\n",
    "<img src = 'image/sig_w1.jpg'>\n",
    "<img src = 'image/sig_ana1.jpg'>\n",
    "<img src = 'image/sig+zf_1Ph.jpg'>\n",
    "<img src = 'image/sig_w_1Ph.jpg'>\n",
    "<img src = 'image/sig_ana_1Ph.jpg'>\n",
    "<img src = 'image/sig+zf_12Ph.jpg'>\n",
    "<img src = 'image/sig+w_12Ph.jpg'>\n",
    "<img src = 'image/sig_ana_12Ph.jpg'>\n",
    "<img src = 'image/leakage_1.jpg'>\n",
    "<img src = 'image/leakage_2.jpg'>\n",
    "<img src = 'image/leakage_3.jpg'>"
   ]
  },
  {
   "cell_type": "markdown",
   "metadata": {},
   "source": [
    "### 7.4 Darstellung von Spektren"
   ]
  },
  {
   "cell_type": "markdown",
   "metadata": {
    "collapsed": true
   },
   "source": [
    "### ideales Spektrum\n",
    "<img src = 'image/dft-fft_2.jpg'>"
   ]
  },
  {
   "cell_type": "markdown",
   "metadata": {},
   "source": [
    "### Spektrum mit Leakage\n",
    "<img src = 'image/dft-fft_1.jpg'>"
   ]
  },
  {
   "cell_type": "markdown",
   "metadata": {},
   "source": [
    "### Einsatz von Zero-Padding\n",
    "<img src = 'image/dft-fft_3.jpg'>"
   ]
  },
  {
   "cell_type": "markdown",
   "metadata": {},
   "source": [
    "### Hervorhebung von Informationen\n",
    "<img src = 'image/dft-fft_4.jpg'>\n"
   ]
  },
  {
   "cell_type": "markdown",
   "metadata": {},
   "source": [
    "### Sprachsignal mit Zero-Padding\n",
    "<img src = 'image/dft-fft_7.jpg'>"
   ]
  },
  {
   "cell_type": "markdown",
   "metadata": {},
   "source": [
    "### Sprachsignalspektren\n",
    "<img src = 'image/dft-fft_8.jpg'>"
   ]
  },
  {
   "cell_type": "code",
   "execution_count": null,
   "metadata": {
    "collapsed": true
   },
   "outputs": [],
   "source": []
  }
 ],
 "metadata": {
  "kernelspec": {
   "display_name": "Python 3",
   "language": "python",
   "name": "python3"
  },
  "language_info": {
   "codemirror_mode": {
    "name": "ipython",
    "version": 3
   },
   "file_extension": ".py",
   "mimetype": "text/x-python",
   "name": "python",
   "nbconvert_exporter": "python",
   "pygments_lexer": "ipython3",
   "version": "3.7.1"
  }
 },
 "nbformat": 4,
 "nbformat_minor": 1
}
