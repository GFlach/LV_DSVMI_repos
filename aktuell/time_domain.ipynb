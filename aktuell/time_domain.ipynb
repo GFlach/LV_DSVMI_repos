{
 "cells": [
  {
   "cell_type": "code",
   "execution_count": null,
   "metadata": {
    "collapsed": false
   },
   "outputs": [],
   "source": [
    "%matplotlib\n",
    "%pylab inline\n",
    "import numpy as np\n",
    "import matplotlib.pyplot as plt\n",
    "import dsv.stochsig as st"
   ]
  },
  {
   "cell_type": "markdown",
   "metadata": {},
   "source": [
    "## 6 Signalverarbeitung im Originalbereich\n",
    "### 6.1 Zufallsprozesse und -größen\n",
    "### 6.2 Signalstatistik\n",
    "#### 6.2.1 Univariate Zufallsvariable\n",
    "#### 6.2.2 Multivariate Zufallsvariable\n",
    "<img src='image/statistik1.jpg'>\n",
    "\n",
    "----------\n",
    "<img src='image/statistik2.jpg'>\n",
    "\n",
    "----------\n",
    "<img src='image/statistik3.jpg'>\n",
    "\n",
    "---------- \n",
    "Korrelationskoeffizient und Visualisierung der Daten in Paaren\n",
    "<img src='image/statistik4.jpg'>\n"
   ]
  },
  {
   "cell_type": "markdown",
   "metadata": {},
   "source": [
    "### 6.3 Verarbeitung im Originalbereich\n",
    "#### 6.3.1 Korrelation\n",
    "<img src='image/korrelation2.jpg' width='500'>\n",
    "\n",
    "------------\n",
    "\n",
    "<img src='image/korrelation3.jpg' width='500'>"
   ]
  },
  {
   "cell_type": "markdown",
   "metadata": {},
   "source": [
    "#### 6.3.2 Filterung im Zeitbereich"
   ]
  }
 ],
 "metadata": {
  "kernelspec": {
   "display_name": "Python 3",
   "language": "python",
   "name": "python3"
  },
  "language_info": {
   "codemirror_mode": {
    "name": "ipython",
    "version": 3
   },
   "file_extension": ".py",
   "mimetype": "text/x-python",
   "name": "python",
   "nbconvert_exporter": "python",
   "pygments_lexer": "ipython3",
   "version": "3.6.0"
  }
 },
 "nbformat": 4,
 "nbformat_minor": 0
}
