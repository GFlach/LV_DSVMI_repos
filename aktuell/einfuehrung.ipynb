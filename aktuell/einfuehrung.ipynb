{
 "cells": [
  {
   "cell_type": "markdown",
   "metadata": {},
   "source": [
    "[Table of Contents](table_of_contents.ipynb)"
   ]
  },
  {
   "cell_type": "markdown",
   "metadata": {},
   "source": [
    "## 2 Einführung\n",
    "Signale sind zeitlich veränderliche physikalische Größen. Die beobachtete zeitliche Veränderung kann eine Information darstellen. Die Signalverarbeitung beschäftigt sich mit speziellen Methoden, diese Informationen sicht- und auswertbar zu machen. \n",
    "\n",
    "Für den Menschen ist neben der stofflichen und energetischen Wechselwirkung auch der Austausch von Informationen mit seiner Umwelt essentiell. Daher hat er Möglichkeiten der Speicherung,  Übertragung und automatischen Gewinnung von Signalen bzw. der darin enthaltenen Informationen geschaffen. Informationen sind immer an einen Kommunikationsprozess gebunden, d. h. neben dem Erzeuger eines informationstragenden Signals gibt es den Empfänger, der an der Information des Signals interessiert ist.\n",
    "\n",
    "Dieses Phänomen wird durch das \"Quelle-Senke-Modell\" beschrieben.\n",
    "<img src=\"image/quelle-senke.jpg\" height=\"200\" width=\"500\">\n",
    "\n",
    "Die Quelle (z. B. Sprecher, Radiosender, Computer) liefert ein Signal $ q(t) $, das an eine räumlich entfernte Senke übertragen werden soll. Meist ist dieses Signal ungeeignet für die direkte Übertragung und wird deshalb vom Sender durch Modulation in das Signal $ s(t) $ umgewandelt, das in den Übertragungskanal eingeleitet wird. Bei der Übertragung wird dieses Signal in seiner Form verändert und von Stör- und Rauschsignalen überlagert. Es entsteht das Signal $ r(t) $ als Eingangssignal für den Empfänger, der die im Sender vorgenommenen Signalmanipulationen wieder rückgängig machen muss. Das entstehende Signal $ v(t) $ ist das Eingangssignal für die Senke. Bei der idealen Übertragung sollte gelten: $ q(t) = v(t)$. Wenn Quelle und Senke mit dem gleichen Vokabular arbeiten, wird auf diese Weise eine Kommunikation ermöglicht.\n",
    "\n",
    "Folgende Signalklassen sind Beispiele für Quellsignale:\n",
    "* Audiosignale (akustische Informationen)\n",
    "* Videosignale (stehende bzw. bewegte Bilder) \n",
    "* Datensignale (z. B. Daten an USB-Schnittstelle)\n",
    "* Messsignale (z. B. aus Produktionsprozess)\n",
    "\n",
    "### Signalverarbeitung und Systemtheorie\n",
    "Die Signalverarbeitung beschäftigt sich mit der Entwicklung und Anwendung mathematischer Modelle zur Beschreibung von Signalen und deren Veränderungen durch technische Systeme. Bei der Betrachtung von Signalen werden 2 wesentliche Aspekte betrachtet:\n",
    "1. Signalanalyse: Man möchte aus dem Signal $ x(t) $ eine darin enthaltene codierte Information extrahieren.\n",
    "2. Systemtheorie: Man möchte etwas über die inneren Eigenschaften eines Systems (Transmissionsmedium) erfahren. Dies erreicht man, indem das System mit einem bekannten Signal $ x(t) $ angeregt, und die Antwort $ y(t) $ dann gemessen und mit $ x(t) $ verglichen wird.\n",
    "\n",
    "Systemanalyse und Signalanalyse sind also offensichtlich eng miteinander verknüpft. Auch im Rahmen der Lehrveranstaltung Digitale Signalverarbeitung werden diese beiden Gebiete eine Rolle spielen.\n"
   ]
  }
 ],
 "metadata": {
  "kernelspec": {
   "display_name": "Python 3",
   "language": "python",
   "name": "python3"
  },
  "language_info": {
   "codemirror_mode": {
    "name": "ipython",
    "version": 3
   },
   "file_extension": ".py",
   "mimetype": "text/x-python",
   "name": "python",
   "nbconvert_exporter": "python",
   "pygments_lexer": "ipython3",
   "version": "3.7.1"
  }
 },
 "nbformat": 4,
 "nbformat_minor": 1
}
