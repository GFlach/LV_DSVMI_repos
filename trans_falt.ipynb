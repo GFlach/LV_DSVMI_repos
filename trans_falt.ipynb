{
 "cells": [
  {
   "cell_type": "markdown",
   "metadata": {},
   "source": [
    "[Table of Contents](table_of_contents.ipynb)"
   ]
  },
  {
   "cell_type": "code",
   "execution_count": null,
   "metadata": {},
   "outputs": [],
   "source": [
    "%matplotlib\n",
    "%pylab inline\n",
    "import numpy as np\n",
    "import matplotlib.pyplot as plt\n",
    "from IPython.display import Audio\n",
    "from scipy.io import wavfile"
   ]
  },
  {
   "cell_type": "markdown",
   "metadata": {},
   "source": [
    "## 4 Transformation und Faltung\n",
    "- Einführung\n",
    "\n",
    "### Licht\n",
    "<img src=\"image/prisma.gif\">\n",
    "Quelle: www.lernhelfer.de/schuelerlexikon/physik-abitur/artikel/spektren-und-spektralanalyse\n",
    "<img src=\"image/beispiel_spektrum.jpg\">\n",
    "\n",
    "### Töne\n",
    "<img src=\"image/fourier_einf1.jpg\">"
   ]
  },
  {
   "cell_type": "code",
   "execution_count": null,
   "metadata": {},
   "outputs": [],
   "source": [
    "fs, instrumente = wavfile.read('sound\\\\fourierreihe.wav')\n",
    "Audio(data = instrumente, rate = fs)"
   ]
  },
  {
   "cell_type": "markdown",
   "metadata": {},
   "source": [
    "<img src=\"image/fourier_einf2.jpg\">\n",
    "<img src=\"image/fourier_einf3.jpg\">\n",
    "<img src=\"image/fourier_einf4.jpg\">\n",
    "<img src=\"image/fourier_einf5.jpg\">"
   ]
  },
  {
   "cell_type": "markdown",
   "metadata": {
    "collapsed": true
   },
   "source": [
    "### 4.1 Fourierreihe\n",
    "<img src=\"image/fourierreihe.jpg\">\n",
    "### 4.2 Fouriersynthese\n",
    "<img src=\"image/fouriersynthese.jpg\">\n",
    "### 4.3 Fouriertransformation\n",
    "### 4.4 Diskrete Fouriertransformation\n",
    "### 4.5 Faltung\n",
    "<img src=\"image/faltung.jpg\">"
   ]
  },
  {
   "cell_type": "code",
   "execution_count": null,
   "metadata": {
    "collapsed": true
   },
   "outputs": [],
   "source": []
  }
 ],
 "metadata": {
  "kernelspec": {
   "display_name": "Python 3",
   "language": "python",
   "name": "python3"
  },
  "language_info": {
   "codemirror_mode": {
    "name": "ipython",
    "version": 3
   },
   "file_extension": ".py",
   "mimetype": "text/x-python",
   "name": "python",
   "nbconvert_exporter": "python",
   "pygments_lexer": "ipython3",
   "version": "3.7.1"
  }
 },
 "nbformat": 4,
 "nbformat_minor": 1
}
